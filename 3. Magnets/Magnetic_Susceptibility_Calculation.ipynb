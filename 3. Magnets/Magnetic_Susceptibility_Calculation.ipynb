{
 "cells": [
  {
   "cell_type": "markdown",
   "metadata": {},
   "source": [
    "# Formulas"
   ]
  },
  {
   "cell_type": "code",
   "execution_count": 13,
   "metadata": {},
   "outputs": [],
   "source": [
    "import numpy as np\n",
    "import matplotlib.pyplot as plt\n",
    "import math"
   ]
  },
  {
   "cell_type": "code",
   "execution_count": 14,
   "metadata": {},
   "outputs": [],
   "source": [
    "# Magnet Dimensions\n",
    "L = 4.98e-3 # Length of external magnet in magnetized direction [m]\n",
    "A = 4.98e-3 # Depth of external magnet [m]\n",
    "B = 4.98e-3 # Width of external magnet [m]\n",
    "\n",
    "# Magnetization\n",
    "Br = 1.15 # Remanent magnetization Source: supermagnete [T]\n",
    "M = 1 # Magnetization direction [-]"
   ]
  },
  {
   "cell_type": "code",
   "execution_count": 15,
   "metadata": {},
   "outputs": [],
   "source": [
    "# Magnetic Field Strength Of One Magnet\n",
    "def magnetic_field_one(Br, M, A, B, L, dz):\n",
    "    \"\"\"\n",
    "    Calculate the magnetic field B(Z) based on the given parameters.\n",
    "\n",
    "    Parameters:\n",
    "    - Br: Remanence (magnetic flux density)\n",
    "    - M: Magnetization direction\n",
    "    - A: Depth of external magnet\n",
    "    - B: Width of external magnet\n",
    "    - L: Length parameter\n",
    "    - dz: Distance from magnet surface\n",
    "\n",
    "    Returns:\n",
    "    - B_Z: Magnetic field at distance dz\n",
    "    \"\"\"\n",
    "    term1 = math.atan((A * B) / (2 * dz * math.sqrt(4 * dz**2 + A**2 + B**2)))\n",
    "    term2 = math.atan((A * B) / (2 * (L + dz) * math.sqrt(4 * (L + dz)**2 + A**2 + B**2)))\n",
    "    B_Z = M*(Br / math.pi) * (term1 - term2)\n",
    "    return B_Z\n",
    "\n",
    "# Magnetic Gradient Two Magnets\n",
    "def magnetic_gradient_one(Br, M, A, B, L, dz):\n",
    "    \"\"\"\n",
    "    Calculates the magnetic field gradient based on the provided formula.\n",
    "\n",
    "    Parameters:\n",
    "        - Br: Remanence (magnetic flux density)\n",
    "        - M: Magnetization direction\n",
    "        - A: Depth of external magnet\n",
    "        - B: Width of external magnet\n",
    "        - L: Length parameter\n",
    "        - dz: Distance dz from magnet surface \n",
    "\n",
    "    Returns:\n",
    "        Magnetic gradient value\n",
    "    \"\"\"\n",
    "    # Compute the first term\n",
    "    numerator_1 = (A**2 + B**2 + 8 * (L + dz)**2)\n",
    "    denominator_1 = ((A**2 + 4 * (L + dz)**2) * (B**2 + 4 * (L + dz)**2) * np.sqrt(A**2 + B**2 + 4 * (L + dz)**2))\n",
    "    term1 = numerator_1 / denominator_1\n",
    "\n",
    "    # Compute the second term\n",
    "    numerator_2 = (A**2 + B**2 + 8 * dz**2)\n",
    "    denominator_2 = ((A**2 + 4 * dz**2) * (B**2 + 4 * dz**2) * np.sqrt(A**2 + B**2 + 4 * dz**2))\n",
    "    term2 = numerator_2 / denominator_2\n",
    "\n",
    "    # Compute the gradient and multiply by M*(2 * A * B * Br / π)\n",
    "    dBz = M*(2 * A * B * (term1 - term2)) * (Br / np.pi)\n",
    "\n",
    "    return dBz\n",
    "\n",
    "# Magnetic Susceptibility\n",
    "def magnetic_susceptibility(rho, dz):\n",
    "    \"\"\"\n",
    "    Calculate the magnetic susceptibility based on the given parameters.\n",
    "\n",
    "    Parameters:\n",
    "    - Br: Remanence (magnetic flux density)\n",
    "    - M: Magnetization direction\n",
    "    - A: Depth of external magnet\n",
    "    - B: Width of external magnet\n",
    "    - L: Length parameter\n",
    "    - dz: Distance from magnet surface\n",
    "\n",
    "    Returns:\n",
    "    - Chi: Magnetic susceptibility\n",
    "    \"\"\"\n",
    "    g = 9.81  # Acceleration due to gravity in m/s^2\n",
    "    mu_0 = 4 * np.pi * 1e-7  # Permeability of free space in T*m/A\n",
    "    dBz = magnetic_gradient_one(Br, M, A, B, L, dz)\n",
    "    Chi = 2 * rho * g * mu_0 / dBz**2\n",
    "    return Chi"
   ]
  },
  {
   "cell_type": "code",
   "execution_count": 33,
   "metadata": {},
   "outputs": [
    {
     "name": "stdout",
     "output_type": "stream",
     "text": [
      "Magnetic field strength test #1 (B_test1) = 2.09972e-05 T\n",
      "Magnetic gradient test #1 (dB_Z_test1) = -0.000614611 T/m\n",
      "Magnetic susceptibility test #1 (Chi_test1) = 513669\n"
     ]
    }
   ],
   "source": [
    "# Magnet Field Strength Test\n",
    "dz = 0.1\n",
    "B_mag = magnetic_field_one(Br, M, A, B, L, dz)\n",
    "print(\"Magnetic field strength test #1 (B_test1) = %g T\"%(B_mag))\n",
    "\n",
    "# Magnetic Gradient Test\n",
    "dB_Z = magnetic_gradient_one(Br, M, A, B, L, dz)\n",
    "print(\"Magnetic gradient test #1 (dB_Z_test1) = %g T/m\"%(dB_Z))\n",
    "\n",
    "# Magnetic Susceptibility Test\n",
    "rho = 7870  # Density of pure iron in kg/m^3, for ferrite it is around 5000 kg/m^3\n",
    "Chi = magnetic_susceptibility(rho, dz)\n",
    "print(\"Magnetic susceptibility test #1 (Chi_test1) = %g\"%(Chi))"
   ]
  },
  {
   "cell_type": "markdown",
   "metadata": {},
   "source": [
    "# Magnetic Susceptibility Measurements"
   ]
  },
  {
   "cell_type": "code",
   "execution_count": 34,
   "metadata": {},
   "outputs": [
    {
     "name": "stdout",
     "output_type": "stream",
     "text": [
      "Magnetic susceptibility test #1 (Chi_test1) = 513669\n"
     ]
    }
   ],
   "source": [
    "# Measured Distance\n",
    "dz = 0.1\n",
    "\n",
    "# Material Density\n",
    "rho = 7870  # Density of pure iron in kg/m^3, for ferrite it is around 5000 kg/m^3\n",
    "\n",
    "# Resulting Magnetic Susceptibility\n",
    "Chi = magnetic_susceptibility(rho, dz)\n",
    "print(\"Magnetic susceptibility test #1 (Chi_test1) = %g\"%(Chi))"
   ]
  }
 ],
 "metadata": {
  "kernelspec": {
   "display_name": "Python 3",
   "language": "python",
   "name": "python3"
  },
  "language_info": {
   "codemirror_mode": {
    "name": "ipython",
    "version": 3
   },
   "file_extension": ".py",
   "mimetype": "text/x-python",
   "name": "python",
   "nbconvert_exporter": "python",
   "pygments_lexer": "ipython3",
   "version": "3.12.3"
  }
 },
 "nbformat": 4,
 "nbformat_minor": 2
}
